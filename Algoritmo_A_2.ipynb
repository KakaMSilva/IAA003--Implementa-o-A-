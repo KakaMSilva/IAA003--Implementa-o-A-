{
  "nbformat": 4,
  "nbformat_minor": 0,
  "metadata": {
    "colab": {
      "provenance": []
    },
    "kernelspec": {
      "name": "python3",
      "display_name": "Python 3"
    },
    "language_info": {
      "name": "python"
    }
  },
  "cells": [
    {
      "cell_type": "code",
      "source": [
        "dists = {\n",
        "    'Bucharest': [('Urzineci',85), ('Giurgiu',90), ('Pitesti',101), ('Fagaras',211)],\n",
        "    'Giurgiu': [('Bucharest',90)],\n",
        "    'Urzineci': [('Bucharest',85), ('Hirsova',98), ('Vaslui',142)],\n",
        "    'Hirsova': [('Urzineci',98), ('Eforie',86)],\n",
        "    'Eforie': [ ('Hirsova',86)],\n",
        "    'Vaslui': [('Urzineci',142), ('Iasi',92)],\n",
        "    'Iasi': [('Vaslui', 92), ('Neamt',87)],\n",
        "    'Neamt': [('Iasi', 87)],\n",
        "    'Fagaras': [('Bucharest',211), ('Sibiu',99)],\n",
        "    'Pitesti': [('Bucharest',101), ('Rimnicu Vilcea',97), ('Craiova',138)],\n",
        "    'Craiova':[('Pitesti',138), ('Rimnicu Vilcea',146), ('Dobreta',120)],\n",
        "    'Rimnicu Vilcea':[('Craiova',146), ('Pitesti',97), ('Sibiu',80)],\n",
        "    'Sibiu':[('Rimnicu Vilcea',80), ('Fagaras',99), ('Oradea',151), ('Arad',140)],\n",
        "    'Oradea':[('Sibiu',151), ('Zerind',71)],\n",
        "    'Zerind':[('Oradea',71), ('Arad',75)],\n",
        "    'Arad':[('Zerind',75), ('Timisoara',118), ('Sibiu',140)],\n",
        "    'Timisoara':[('Arad',118), ('Lugoj',111)],\n",
        "    'Lugoj':[('Timisoara',111), ('Mehadia',70)],\n",
        "    'Mehadia':[('Lugoj',70), ('Dobreta',75)],\n",
        "    'Dobreta':[('Mehadia',75), ('Craiova',120)],\n",
        "}\n",
        "\n",
        "\n",
        "        \n",
        "straight_line_dists_from_bucharest = {\n",
        "    'Arad': 366,\n",
        "    'Bucharest':0,\n",
        "    'Craiova':160,\n",
        "    'Dobreta':242,\n",
        "    'Eforie':161,\n",
        "    'Fagaras':176,\n",
        "    'Giurgiu':77,\n",
        "    'Hirsova':151,\n",
        "    'Iasi':226,\n",
        "    'Lugoj':244,\n",
        "    'Mehadia':241,\n",
        "    'Neamt':234,\n",
        "    'Oradea':380,\n",
        "    'Pitesti':100,\n",
        "    'Rimnicu Vilcea':193,\n",
        "    'Sibiu':253,\n",
        "    'Timisoara':329,\n",
        "    'Urzineci':80,\n",
        "    'Vaslui':199,\n",
        "    'Zerind':374\n",
        "}"
      ],
      "metadata": {
        "id": "j-0WrBBkysF_"
      },
      "execution_count": 4,
      "outputs": []
    },
    {
      "cell_type": "code",
      "execution_count": 5,
      "metadata": {
        "id": "WxWbKlJBxhWm"
      },
      "outputs": [],
      "source": [
        "import math\n",
        "\n",
        "def f_score(node):\n",
        "    return node['custo'] + node['heuristica']\n",
        "    \n",
        "def a_star(start, goal='Bucharest'):\n",
        "    inicio_node = {'nome': start, 'custo': 0, 'heuristica': straight_line_dists_from_bucharest[start], 'pai': None}\n",
        "    abrir_lista = [inicio_node]\n",
        "    fechar_lista = []\n",
        "    while abrir_lista:\n",
        "        atual = min(abrir_lista, key=lambda node: f_score(node))\n",
        "        abrir_lista.remove(atual)\n",
        "        if atual['nome'] == goal:\n",
        "            caminho = []\n",
        "            while atual:\n",
        "                caminho.append(atual['nome'])\n",
        "                atual = atual['pai']\n",
        "            return list(reversed(caminho))\n",
        "        fechar_lista.append(atual)\n",
        "        for vizinho_nome, vizinho_custo in dists[atual['nome']]:   \n",
        "            vizinho = {'nome': vizinho_nome, 'custo': atual['custo'] + vizinho_custo, 'heuristica': straight_line_dists_from_bucharest[vizinho_nome], 'pai': atual}           \n",
        "            if vizinho in fechar_lista:\n",
        "                continue            \n",
        "            if vizinho not in abrir_lista:\n",
        "                abrir_lista.append(vizinho)\n",
        "            else:                \n",
        "                index = abrir_lista.index(vizinho)\n",
        "                if vizinho['custo'] < abrir_lista[index]['custo']:\n",
        "                    abrir_lista[index] = vizinho\n",
        "    return \"Caminho não encontrado\"  \n"
      ]
    },
    {
      "cell_type": "code",
      "source": [
        "  print('Inicio:', end=' ')\n",
        "  start = input().strip()\n",
        "  if start not in dists:\n",
        "      print('Cidade não existe.')\n",
        "  else:\n",
        "        print('\\nCaminho ate o objetivo:')\n",
        "        print(a_star(start))"
      ],
      "metadata": {
        "colab": {
          "base_uri": "https://localhost:8080/"
        },
        "id": "js3LXbB1y7bH",
        "outputId": "743770cf-0ffa-4025-b7e1-7c6af85ff3ff"
      },
      "execution_count": 7,
      "outputs": [
        {
          "output_type": "stream",
          "name": "stdout",
          "text": [
            "Inicio: Oradea\n",
            "\n",
            "Caminho ate o objetivo:\n",
            "['Oradea', 'Sibiu', 'Rimnicu Vilcea', 'Pitesti', 'Bucharest']\n"
          ]
        }
      ]
    }
  ]
}